{
 "cells": [
  {
   "cell_type": "markdown",
   "metadata": {},
   "source": [
    "## Heuristic Search\n"
   ]
  },
  {
   "cell_type": "code",
   "execution_count": 3,
   "metadata": {},
   "outputs": [],
   "source": [
    "import numpy as np\n",
    "import pandas as pd\n",
    "import scipy as sc\n",
    "import random  "
   ]
  },
  {
   "cell_type": "code",
   "execution_count": 17,
   "metadata": {},
   "outputs": [],
   "source": [
    "def getTest(tf, t1, t2, newArr, beta, alpha):\n",
    "    for i in range(beta.shape[0]):\n",
    "        for j in range(newArr.shape[1]):\n",
    "            if j < t1:\n",
    "                newArr[i][j] = beta[i]*(tf[j] + (alpha + (tf[j]*0.3)))\n",
    "            else:\n",
    "                newArr[i][j] = beta[i]*tf[j]"
   ]
  },
  {
   "cell_type": "code",
   "execution_count": 19,
   "metadata": {},
   "outputs": [
    {
     "name": "stdout",
     "output_type": "stream",
     "text": [
      "[[ 5.59886983 10.0101006   7.80448521  2.29044675  1.18763905  7.80448521\n",
      "   1.18763905  5.59886983  7.80448521  2.29044675 10.0101006   2.29044675\n",
      "   1.18763905 10.0101006   6.70167752  1.18763905  2.54494083  4.24156805\n",
      "   5.08988166  0.84831361]\n",
      " [ 0.61595763  1.10125758  0.8586076   0.25198267  0.13065768  0.8586076\n",
      "   0.13065768  0.61595763  0.8586076   0.25198267  1.10125758  0.25198267\n",
      "   0.13065768  1.10125758  0.73728261  0.13065768  0.27998074  0.46663457\n",
      "   0.55996148  0.09332691]\n",
      " [ 1.45907701  2.60865284  2.03386493  0.59689514  0.30950118  2.03386493\n",
      "   0.30950118  1.45907701  2.03386493  0.59689514  2.60865284  0.59689514\n",
      "   0.30950118  2.60865284  1.74647097  0.30950118  0.66321682  1.10536137\n",
      "   1.32643365  0.22107227]]\n"
     ]
    }
   ],
   "source": [
    "tf = np.random.randint(1,10,20)\n",
    "t1 = 16 \n",
    "t2 = 20 - t1\n",
    "\n",
    "alpha = 0.1\n",
    "\n",
    "beta = np.random.rand(3)\n",
    "\n",
    "newArr = np.zeros(shape=(3,20))\n",
    "pCoefficient = np.zeros(20)\n",
    "\n",
    "getTest(tf, t1, t2, newArr, beta, alpha)\n",
    "\n",
    "print(newArr)"
   ]
  },
  {
   "cell_type": "code",
   "execution_count": 20,
   "metadata": {},
   "outputs": [],
   "source": [
    "df = pd.DataFrame(newArr, index=beta,columns=tf)"
   ]
  },
  {
   "cell_type": "code",
   "execution_count": 21,
   "metadata": {},
   "outputs": [
    {
     "data": {
      "text/html": [
       "<div>\n",
       "<style scoped>\n",
       "    .dataframe tbody tr th:only-of-type {\n",
       "        vertical-align: middle;\n",
       "    }\n",
       "\n",
       "    .dataframe tbody tr th {\n",
       "        vertical-align: top;\n",
       "    }\n",
       "\n",
       "    .dataframe thead th {\n",
       "        text-align: right;\n",
       "    }\n",
       "</style>\n",
       "<table border=\"1\" class=\"dataframe\">\n",
       "  <thead>\n",
       "    <tr style=\"text-align: right;\">\n",
       "      <th></th>\n",
       "      <th>5</th>\n",
       "      <th>9</th>\n",
       "      <th>7</th>\n",
       "      <th>2</th>\n",
       "      <th>1</th>\n",
       "      <th>7</th>\n",
       "      <th>1</th>\n",
       "      <th>5</th>\n",
       "      <th>7</th>\n",
       "      <th>2</th>\n",
       "      <th>9</th>\n",
       "      <th>2</th>\n",
       "      <th>1</th>\n",
       "      <th>9</th>\n",
       "      <th>6</th>\n",
       "      <th>1</th>\n",
       "      <th>3</th>\n",
       "      <th>5</th>\n",
       "      <th>6</th>\n",
       "      <th>1</th>\n",
       "    </tr>\n",
       "  </thead>\n",
       "  <tbody>\n",
       "    <tr>\n",
       "      <th>0.848314</th>\n",
       "      <td>5.598870</td>\n",
       "      <td>10.010101</td>\n",
       "      <td>7.804485</td>\n",
       "      <td>2.290447</td>\n",
       "      <td>1.187639</td>\n",
       "      <td>7.804485</td>\n",
       "      <td>1.187639</td>\n",
       "      <td>5.598870</td>\n",
       "      <td>7.804485</td>\n",
       "      <td>2.290447</td>\n",
       "      <td>10.010101</td>\n",
       "      <td>2.290447</td>\n",
       "      <td>1.187639</td>\n",
       "      <td>10.010101</td>\n",
       "      <td>6.701678</td>\n",
       "      <td>1.187639</td>\n",
       "      <td>2.544941</td>\n",
       "      <td>4.241568</td>\n",
       "      <td>5.089882</td>\n",
       "      <td>0.848314</td>\n",
       "    </tr>\n",
       "    <tr>\n",
       "      <th>0.093327</th>\n",
       "      <td>0.615958</td>\n",
       "      <td>1.101258</td>\n",
       "      <td>0.858608</td>\n",
       "      <td>0.251983</td>\n",
       "      <td>0.130658</td>\n",
       "      <td>0.858608</td>\n",
       "      <td>0.130658</td>\n",
       "      <td>0.615958</td>\n",
       "      <td>0.858608</td>\n",
       "      <td>0.251983</td>\n",
       "      <td>1.101258</td>\n",
       "      <td>0.251983</td>\n",
       "      <td>0.130658</td>\n",
       "      <td>1.101258</td>\n",
       "      <td>0.737283</td>\n",
       "      <td>0.130658</td>\n",
       "      <td>0.279981</td>\n",
       "      <td>0.466635</td>\n",
       "      <td>0.559961</td>\n",
       "      <td>0.093327</td>\n",
       "    </tr>\n",
       "    <tr>\n",
       "      <th>0.221072</th>\n",
       "      <td>1.459077</td>\n",
       "      <td>2.608653</td>\n",
       "      <td>2.033865</td>\n",
       "      <td>0.596895</td>\n",
       "      <td>0.309501</td>\n",
       "      <td>2.033865</td>\n",
       "      <td>0.309501</td>\n",
       "      <td>1.459077</td>\n",
       "      <td>2.033865</td>\n",
       "      <td>0.596895</td>\n",
       "      <td>2.608653</td>\n",
       "      <td>0.596895</td>\n",
       "      <td>0.309501</td>\n",
       "      <td>2.608653</td>\n",
       "      <td>1.746471</td>\n",
       "      <td>0.309501</td>\n",
       "      <td>0.663217</td>\n",
       "      <td>1.105361</td>\n",
       "      <td>1.326434</td>\n",
       "      <td>0.221072</td>\n",
       "    </tr>\n",
       "  </tbody>\n",
       "</table>\n",
       "</div>"
      ],
      "text/plain": [
       "                 5          9         7         2         1         7  \\\n",
       "0.848314  5.598870  10.010101  7.804485  2.290447  1.187639  7.804485   \n",
       "0.093327  0.615958   1.101258  0.858608  0.251983  0.130658  0.858608   \n",
       "0.221072  1.459077   2.608653  2.033865  0.596895  0.309501  2.033865   \n",
       "\n",
       "                 1         5         7         2          9         2  \\\n",
       "0.848314  1.187639  5.598870  7.804485  2.290447  10.010101  2.290447   \n",
       "0.093327  0.130658  0.615958  0.858608  0.251983   1.101258  0.251983   \n",
       "0.221072  0.309501  1.459077  2.033865  0.596895   2.608653  0.596895   \n",
       "\n",
       "                 1          9         6         1         3         5  \\\n",
       "0.848314  1.187639  10.010101  6.701678  1.187639  2.544941  4.241568   \n",
       "0.093327  0.130658   1.101258  0.737283  0.130658  0.279981  0.466635   \n",
       "0.221072  0.309501   2.608653  1.746471  0.309501  0.663217  1.105361   \n",
       "\n",
       "                 6         1  \n",
       "0.848314  5.089882  0.848314  \n",
       "0.093327  0.559961  0.093327  \n",
       "0.221072  1.326434  0.221072  "
      ]
     },
     "execution_count": 21,
     "metadata": {},
     "output_type": "execute_result"
    }
   ],
   "source": [
    "df"
   ]
  },
  {
   "cell_type": "code",
   "execution_count": null,
   "metadata": {},
   "outputs": [],
   "source": []
  }
 ],
 "metadata": {
  "kernelspec": {
   "display_name": "Python 3",
   "language": "python",
   "name": "python3"
  },
  "language_info": {
   "codemirror_mode": {
    "name": "ipython",
    "version": 3
   },
   "file_extension": ".py",
   "mimetype": "text/x-python",
   "name": "python",
   "nbconvert_exporter": "python",
   "pygments_lexer": "ipython3",
   "version": "3.6.5"
  }
 },
 "nbformat": 4,
 "nbformat_minor": 2
}
