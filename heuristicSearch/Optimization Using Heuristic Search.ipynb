{
 "cells": [
  {
   "cell_type": "code",
   "execution_count": 4,
   "metadata": {},
   "outputs": [],
   "source": [
    "import numpy as np\n",
    "import pandas as pd\n",
    "import random"
   ]
  },
  {
   "cell_type": "code",
   "execution_count": 7,
   "metadata": {},
   "outputs": [],
   "source": [
    "def getTest(tf, t1, t2, newArr, beta):\n",
    "    for i in range(beta.shape[0]):\n",
    "        for j in range(newArr.shape[1]):\n",
    "            if j < t1:\n",
    "                newArr[i][j] = beta[i]*(tf[j] + (beta[i]*tf[j]))\n",
    "            else:\n",
    "                newArr[i][j] = beta[i]*tf[j]"
   ]
  },
  {
   "cell_type": "code",
   "execution_count": 8,
   "metadata": {},
   "outputs": [
    {
     "name": "stdout",
     "output_type": "stream",
     "text": [
      "[[17.20329574 15.29181843  3.82295461 11.46886383  7.64590922  9.55738652\n",
      "   5.73443191  1.9114773   7.64590922 17.20329574  1.9114773  11.46886383\n",
      "  15.29181843  1.9114773  11.46886383 17.20329574  4.85098174  0.97019635\n",
      "   5.82117809  3.8807854 ]\n",
      " [ 6.30009722  5.60008642  1.4000216   4.20006481  2.80004321  3.50005401\n",
      "   2.10003241  0.7000108   2.80004321  6.30009722  0.7000108   4.20006481\n",
      "   5.60008642  0.7000108   4.20006481  6.30009722  2.37342488  0.47468498\n",
      "   2.84810986  1.8987399 ]\n",
      " [ 8.03842811  7.14526943  1.78631736  5.35895207  3.57263471  4.46579339\n",
      "   2.67947604  0.89315868  3.57263471  8.03842811  0.89315868  5.35895207\n",
      "   7.14526943  0.89315868  5.35895207  8.03842811  2.84592994  0.56918599\n",
      "   3.41511593  2.27674395]]\n"
     ]
    }
   ],
   "source": [
    "tf = np.random.randint(1,10,20)\n",
    "t1 = 16\n",
    "t2 = 20 - t1\n",
    "\n",
    "beta = np.random.rand(3)\n",
    "newArr = np.zeros(shape=(3,20))\n",
    "pCoefficient = np.zeros(20)\n",
    "\n",
    "getTest(tf, t1, t2, newArr, beta)\n",
    "\n",
    "print(newArr)"
   ]
  },
  {
   "cell_type": "code",
   "execution_count": 18,
   "metadata": {},
   "outputs": [],
   "source": [
    "df = pd.DataFrame(newArr, index=beta,columns=tf)"
   ]
  },
  {
   "cell_type": "code",
   "execution_count": 19,
   "metadata": {},
   "outputs": [
    {
     "data": {
      "text/html": [
       "<div>\n",
       "<style scoped>\n",
       "    .dataframe tbody tr th:only-of-type {\n",
       "        vertical-align: middle;\n",
       "    }\n",
       "\n",
       "    .dataframe tbody tr th {\n",
       "        vertical-align: top;\n",
       "    }\n",
       "\n",
       "    .dataframe thead th {\n",
       "        text-align: right;\n",
       "    }\n",
       "</style>\n",
       "<table border=\"1\" class=\"dataframe\">\n",
       "  <thead>\n",
       "    <tr style=\"text-align: right;\">\n",
       "      <th></th>\n",
       "      <th>9</th>\n",
       "      <th>8</th>\n",
       "      <th>2</th>\n",
       "      <th>6</th>\n",
       "      <th>4</th>\n",
       "      <th>5</th>\n",
       "      <th>3</th>\n",
       "      <th>1</th>\n",
       "      <th>4</th>\n",
       "      <th>9</th>\n",
       "      <th>1</th>\n",
       "      <th>6</th>\n",
       "      <th>8</th>\n",
       "      <th>1</th>\n",
       "      <th>6</th>\n",
       "      <th>9</th>\n",
       "      <th>5</th>\n",
       "      <th>1</th>\n",
       "      <th>6</th>\n",
       "      <th>4</th>\n",
       "    </tr>\n",
       "  </thead>\n",
       "  <tbody>\n",
       "    <tr>\n",
       "      <th>0.970196</th>\n",
       "      <td>17.203296</td>\n",
       "      <td>15.291818</td>\n",
       "      <td>3.822955</td>\n",
       "      <td>11.468864</td>\n",
       "      <td>7.645909</td>\n",
       "      <td>9.557387</td>\n",
       "      <td>5.734432</td>\n",
       "      <td>1.911477</td>\n",
       "      <td>7.645909</td>\n",
       "      <td>17.203296</td>\n",
       "      <td>1.911477</td>\n",
       "      <td>11.468864</td>\n",
       "      <td>15.291818</td>\n",
       "      <td>1.911477</td>\n",
       "      <td>11.468864</td>\n",
       "      <td>17.203296</td>\n",
       "      <td>4.850982</td>\n",
       "      <td>0.970196</td>\n",
       "      <td>5.821178</td>\n",
       "      <td>3.880785</td>\n",
       "    </tr>\n",
       "    <tr>\n",
       "      <th>0.474685</th>\n",
       "      <td>6.300097</td>\n",
       "      <td>5.600086</td>\n",
       "      <td>1.400022</td>\n",
       "      <td>4.200065</td>\n",
       "      <td>2.800043</td>\n",
       "      <td>3.500054</td>\n",
       "      <td>2.100032</td>\n",
       "      <td>0.700011</td>\n",
       "      <td>2.800043</td>\n",
       "      <td>6.300097</td>\n",
       "      <td>0.700011</td>\n",
       "      <td>4.200065</td>\n",
       "      <td>5.600086</td>\n",
       "      <td>0.700011</td>\n",
       "      <td>4.200065</td>\n",
       "      <td>6.300097</td>\n",
       "      <td>2.373425</td>\n",
       "      <td>0.474685</td>\n",
       "      <td>2.848110</td>\n",
       "      <td>1.898740</td>\n",
       "    </tr>\n",
       "    <tr>\n",
       "      <th>0.569186</th>\n",
       "      <td>8.038428</td>\n",
       "      <td>7.145269</td>\n",
       "      <td>1.786317</td>\n",
       "      <td>5.358952</td>\n",
       "      <td>3.572635</td>\n",
       "      <td>4.465793</td>\n",
       "      <td>2.679476</td>\n",
       "      <td>0.893159</td>\n",
       "      <td>3.572635</td>\n",
       "      <td>8.038428</td>\n",
       "      <td>0.893159</td>\n",
       "      <td>5.358952</td>\n",
       "      <td>7.145269</td>\n",
       "      <td>0.893159</td>\n",
       "      <td>5.358952</td>\n",
       "      <td>8.038428</td>\n",
       "      <td>2.845930</td>\n",
       "      <td>0.569186</td>\n",
       "      <td>3.415116</td>\n",
       "      <td>2.276744</td>\n",
       "    </tr>\n",
       "  </tbody>\n",
       "</table>\n",
       "</div>"
      ],
      "text/plain": [
       "                  9          8         2          6         4         5  \\\n",
       "0.970196  17.203296  15.291818  3.822955  11.468864  7.645909  9.557387   \n",
       "0.474685   6.300097   5.600086  1.400022   4.200065  2.800043  3.500054   \n",
       "0.569186   8.038428   7.145269  1.786317   5.358952  3.572635  4.465793   \n",
       "\n",
       "                 3         1         4          9         1          6  \\\n",
       "0.970196  5.734432  1.911477  7.645909  17.203296  1.911477  11.468864   \n",
       "0.474685  2.100032  0.700011  2.800043   6.300097  0.700011   4.200065   \n",
       "0.569186  2.679476  0.893159  3.572635   8.038428  0.893159   5.358952   \n",
       "\n",
       "                  8         1          6          9         5         1  \\\n",
       "0.970196  15.291818  1.911477  11.468864  17.203296  4.850982  0.970196   \n",
       "0.474685   5.600086  0.700011   4.200065   6.300097  2.373425  0.474685   \n",
       "0.569186   7.145269  0.893159   5.358952   8.038428  2.845930  0.569186   \n",
       "\n",
       "                 6         4  \n",
       "0.970196  5.821178  3.880785  \n",
       "0.474685  2.848110  1.898740  \n",
       "0.569186  3.415116  2.276744  "
      ]
     },
     "execution_count": 19,
     "metadata": {},
     "output_type": "execute_result"
    }
   ],
   "source": [
    "df"
   ]
  },
  {
   "cell_type": "code",
   "execution_count": null,
   "metadata": {},
   "outputs": [],
   "source": []
  }
 ],
 "metadata": {
  "kernelspec": {
   "display_name": "Python 3",
   "language": "python",
   "name": "python3"
  },
  "language_info": {
   "codemirror_mode": {
    "name": "ipython",
    "version": 3
   },
   "file_extension": ".py",
   "mimetype": "text/x-python",
   "name": "python",
   "nbconvert_exporter": "python",
   "pygments_lexer": "ipython3",
   "version": "3.6.4"
  }
 },
 "nbformat": 4,
 "nbformat_minor": 2
}
